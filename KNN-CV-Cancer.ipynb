{
 "cells": [
  {
   "cell_type": "markdown",
   "metadata": {},
   "source": [
    "## Penggunaan Library"
   ]
  },
  {
   "cell_type": "code",
   "execution_count": 1,
   "metadata": {},
   "outputs": [],
   "source": [
    "import numpy as np\n",
    "import matplotlib.pyplot as plt\n",
    "import pandas as pd\n",
    "from sklearn.neighbors import KNeighborsClassifier\n",
    "from sklearn.model_selection import cross_val_score\n",
    "import warnings\n",
    "warnings.filterwarnings('ignore')"
   ]
  },
  {
   "cell_type": "markdown",
   "metadata": {},
   "source": [
    "### Dataset"
   ]
  },
  {
   "cell_type": "code",
   "execution_count": 2,
   "metadata": {},
   "outputs": [],
   "source": [
    "data = pd.read_csv('breast-cancer-wisconsin.data', header=None, names=['ID','Fitur 1','Fitur 2','Fitur 3', 'Fitur 4', 'Fitur 5', 'Fitur 6', 'Fitur 7', 'Fitur 8', 'Fitur 9', 'Kelas'])\n",
    "data = data.replace(to_replace = '?', value = np.NaN)\n",
    "data['Fitur 6'].fillna(data['Fitur 6'].median(), inplace=True)"
   ]
  },
  {
   "cell_type": "code",
   "execution_count": 3,
   "metadata": {},
   "outputs": [
    {
     "name": "stdout",
     "output_type": "stream",
     "text": [
      "<class 'pandas.core.frame.DataFrame'>\n",
      "RangeIndex: 699 entries, 0 to 698\n",
      "Data columns (total 11 columns):\n",
      "ID         699 non-null int64\n",
      "Fitur 1    699 non-null int64\n",
      "Fitur 2    699 non-null int64\n",
      "Fitur 3    699 non-null int64\n",
      "Fitur 4    699 non-null int64\n",
      "Fitur 5    699 non-null int64\n",
      "Fitur 6    699 non-null int64\n",
      "Fitur 7    699 non-null int64\n",
      "Fitur 8    699 non-null int64\n",
      "Fitur 9    699 non-null int64\n",
      "Kelas      699 non-null int64\n",
      "dtypes: int64(11)\n",
      "memory usage: 60.2 KB\n"
     ]
    }
   ],
   "source": [
    "data['Fitur 6'] = data['Fitur 6'].astype(float).astype(np.int64)\n",
    "data.info()"
   ]
  },
  {
   "cell_type": "code",
   "execution_count": 4,
   "metadata": {},
   "outputs": [
    {
     "name": "stdout",
     "output_type": "stream",
     "text": [
      "     Fitur 1  Fitur 2  Fitur 3  Fitur 4  Fitur 5  Fitur 6  Fitur 7  Fitur 8  \\\n",
      "0          5        1        1        1        2        1        3        1   \n",
      "1          5        4        4        5        7       10        3        2   \n",
      "2          3        1        1        1        2        2        3        1   \n",
      "3          6        8        8        1        3        4        3        7   \n",
      "4          4        1        1        3        2        1        3        1   \n",
      "..       ...      ...      ...      ...      ...      ...      ...      ...   \n",
      "694        3        1        1        1        3        2        1        1   \n",
      "695        2        1        1        1        2        1        1        1   \n",
      "696        5       10       10        3        7        3        8       10   \n",
      "697        4        8        6        4        3        4       10        6   \n",
      "698        4        8        8        5        4        5       10        4   \n",
      "\n",
      "     Fitur 9  \n",
      "0          1  \n",
      "1          1  \n",
      "2          1  \n",
      "3          1  \n",
      "4          1  \n",
      "..       ...  \n",
      "694        1  \n",
      "695        1  \n",
      "696        2  \n",
      "697        1  \n",
      "698        1  \n",
      "\n",
      "[699 rows x 9 columns]\n"
     ]
    }
   ],
   "source": [
    "raw_data = data.iloc[:,1:-1]\n",
    "print(raw_data)"
   ]
  },
  {
   "cell_type": "code",
   "execution_count": 5,
   "metadata": {},
   "outputs": [
    {
     "name": "stdout",
     "output_type": "stream",
     "text": [
      "     Kelas\n",
      "0        2\n",
      "1        2\n",
      "2        2\n",
      "3        2\n",
      "4        2\n",
      "..     ...\n",
      "694      2\n",
      "695      2\n",
      "696      4\n",
      "697      4\n",
      "698      4\n",
      "\n",
      "[699 rows x 1 columns]\n"
     ]
    }
   ],
   "source": [
    "class_data = data.iloc[:,-1:]\n",
    "print(class_data)"
   ]
  },
  {
   "cell_type": "markdown",
   "metadata": {},
   "source": [
    "### Algoritma KNN"
   ]
  },
  {
   "cell_type": "code",
   "execution_count": 6,
   "metadata": {},
   "outputs": [],
   "source": [
    "knn = KNeighborsClassifier(algorithm='auto', p=1, metric='manhattan', n_neighbors = 3)"
   ]
  },
  {
   "cell_type": "markdown",
   "metadata": {},
   "source": [
    "### Datasplit dengan Cross Validation dengan fold 10"
   ]
  },
  {
   "cell_type": "code",
   "execution_count": 7,
   "metadata": {
    "scrolled": false
   },
   "outputs": [
    {
     "name": "stdout",
     "output_type": "stream",
     "text": [
      "[0.88732394 0.95714286 0.97142857 0.92857143 1.         0.97142857\n",
      " 0.98571429 0.98571429 0.98550725 1.        ]\n",
      "0.9672831190038783\n"
     ]
    }
   ],
   "source": [
    "scores = cross_val_score(knn, raw_data, class_data, cv=10, scoring='accuracy')\n",
    "\n",
    "print(scores)\n",
    "\n",
    "print(scores.mean())"
   ]
  },
  {
   "cell_type": "markdown",
   "metadata": {},
   "source": [
    "### Mencari nilai K dengan akurasi terbaik "
   ]
  },
  {
   "cell_type": "code",
   "execution_count": 10,
   "metadata": {},
   "outputs": [
    {
     "name": "stdout",
     "output_type": "stream",
     "text": [
      "nilai k optimal: 3\n",
      "Dengan akurasi sebesar: 0.9644460968710817\n"
     ]
    },
    {
     "data": {
      "image/png": "[encoded data removed]",
      "text/plain": [
       "<Figure size 432x288 with 1 Axes>"
      ]
     },
     "metadata": {
      "needs_background": "light"
     },
     "output_type": "display_data"
    }
   ],
   "source": [
    "k_range = range(1, 31)\n",
    "k_scores = []\n",
    "maks = 0\n",
    "for k in k_range:\n",
    "    knn = KNeighborsClassifier(algorithm='auto', p=1, metric='manhattan', n_neighbors=k)\n",
    "    scores = cross_val_score(knn, raw_data, class_data, cv=10, scoring='accuracy')\n",
    "    k_scores.append(scores.mean())\n",
    "    if(scores.mean() > maks):\n",
    "        maks = scores.mean()\n",
    "        nilai_k = k\n",
    "    # plot to see clearly\n",
    "print(\"nilai k optimal:\",nilai_k)\n",
    "print(\"Dengan akurasi sebesar:\",k_scores[nilai_k])\n",
    "plt.plot(k_range, k_scores)\n",
    "plt.xlabel('Value of K for KNN')\n",
    "plt.ylabel('Cross-Validated Accuracy')\n",
    "plt.show()"
   ]
  }
 ],
 "metadata": {
  "kernelspec": {
   "display_name": "Python 3",
   "language": "python",
   "name": "python3"
  },
  "language_info": {
   "codemirror_mode": {
    "name": "ipython",
    "version": 3
   },
   "file_extension": ".py",
   "mimetype": "text/x-python",
   "name": "python",
   "nbconvert_exporter": "python",
   "pygments_lexer": "ipython3",
   "version": "3.7.5"
  }
 },
 "nbformat": 4,
 "nbformat_minor": 2
}
